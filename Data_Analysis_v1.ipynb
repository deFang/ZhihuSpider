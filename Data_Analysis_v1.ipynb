{
 "cells": [
  {
   "cell_type": "code",
   "execution_count": 1,
   "metadata": {
    "collapsed": true
   },
   "outputs": [],
   "source": [
    "#!/usr/bin/env python\n",
    "#coding=utf-8\n",
    "import sys\n",
    "reload(sys)\n",
    "sys.setdefaultencoding(\"utf-8\")\n",
    "import pymongo\n",
    "client=pymongo.MongoClient(\"localhost\",27017)\n",
    "db = client.zhihu\n",
    "collection=db.data_collection"
   ]
  },
  {
   "cell_type": "code",
   "execution_count": 2,
   "metadata": {
    "collapsed": false
   },
   "outputs": [
    {
     "data": {
      "text/plain": [
       "21378"
      ]
     },
     "execution_count": 2,
     "metadata": {},
     "output_type": "execute_result"
    }
   ],
   "source": [
    "# size of database\n",
    "collection.count()"
   ]
  },
  {
   "cell_type": "code",
   "execution_count": 3,
   "metadata": {
    "collapsed": false
   },
   "outputs": [
    {
     "data": {
      "text/plain": [
       "{u'_id': ObjectId('5786d553ee97c61ab0a3408a'),\n",
       " u'agree': u'16273',\n",
       " u'answer': u'148',\n",
       " u'article': u'0',\n",
       " u'ask': u'6',\n",
       " u'bio': u'\\u6280\\u80fd\\u6811\\u70b9\\u6b6a\\u4e86\\u8d70\\u4e0a\\u5b66\\u9b54\\u4e4b\\u8def',\n",
       " u'collection': u'1',\n",
       " u'column': u'155',\n",
       " u'edit': u'28',\n",
       " u'education': u'',\n",
       " u'employment': u'',\n",
       " u'field': u'',\n",
       " u'follower': u'5548',\n",
       " u'following': u'367',\n",
       " u'gender': u'male',\n",
       " u'major': u'',\n",
       " u'name': u'\\u7ae0\\u4f73\\u6770',\n",
       " u'pageview': u'4096',\n",
       " u'position': u'',\n",
       " u'thanks': u'4770',\n",
       " u'topic': u'121'}"
      ]
     },
     "execution_count": 3,
     "metadata": {},
     "output_type": "execute_result"
    }
   ],
   "source": [
    "# query\n",
    "collection.find_one()"
   ]
  },
  {
   "cell_type": "markdown",
   "metadata": {},
   "source": [
    "## transform to csv file"
   ]
  },
  {
   "cell_type": "code",
   "execution_count": 4,
   "metadata": {
    "collapsed": true
   },
   "outputs": [],
   "source": [
    "a = collection.find() # return an iterator of database\n",
    "Myfile=open('zhihu.csv','w')\n",
    "Myfile.write(\"_id\"+\"\\t\"+'major'+\"\\t\"+'answer'+\"\\t\"+'name'+\"\\t\"+'column'+\"\\t\"+'gender'+\"\\t\"\n",
    "            +'ask'+\"\\t\"+'pageview'+\"\\t\"+'collection'+\"\\t\"+'topic'+\"\\t\"+'field'+\"\\t\"+'follower'+\"\\t\"+'edit'\n",
    "             +\"\\t\"+'article'+\"\\t\"+'following'+\"\\t\"+'position'+\"\\t\"+'education'+\"\\t\"+'employment'+\"\\t\"+\n",
    "            'agree'+\"\\t\"+'thanks')\n",
    "Myfile.write(\"\\n\")\n",
    "for i in a:\n",
    "    if i.has_key('_id'):Myfile.write(str(i['_id']))\n",
    "    else: Myfile.write(' ')\n",
    "        \n",
    "    if i.has_key('major'):Myfile.write('\\t'+str(i['major']))\n",
    "    else: Myfile.write('\\t'+' ')\n",
    "    \n",
    "    if i.has_key('answer'):Myfile.write('\\t'+str(i['answer']))\n",
    "    else: Myfile.write('\\t'+' ')\n",
    "    \n",
    "    if i.has_key('name'):Myfile.write('\\t'+str(i['name']))\n",
    "    else: Myfile.write('\\t'+' ')\n",
    "    \n",
    "    if i.has_key('column'):Myfile.write('\\t'+str(i['column']))\n",
    "    else: Myfile.write('\\t'+' ')\n",
    "        \n",
    "    if i.has_key('gender'):Myfile.write('\\t'+str(i['gender']))\n",
    "    else: Myfile.write('\\t'+' ')\n",
    "        \n",
    "    if i.has_key('ask'):Myfile.write('\\t'+str(i['ask']))\n",
    "    else: Myfile.write('\\t'+' ')\n",
    "        \n",
    "    if i.has_key('pageview'):Myfile.write('\\t'+str(i['pageview']))\n",
    "    else: Myfile.write('\\t'+' ')\n",
    "        \n",
    "    if i.has_key('collection'):Myfile.write('\\t'+str(i['collection']))\n",
    "    else: Myfile.write('\\t'+' ')\n",
    "        \n",
    "    if i.has_key('topic'):Myfile.write('\\t'+str(i['topic']))\n",
    "    else: Myfile.write('\\t'+' ')\n",
    "        \n",
    "    if i.has_key('field'):Myfile.write('\\t'+str(i['field']))\n",
    "    else: Myfile.write('\\t'+' ')\n",
    "        \n",
    "    if i.has_key('follower'):Myfile.write('\\t'+str(i['follower']))\n",
    "    else: Myfile.write('\\t'+' ')\n",
    "        \n",
    "    if i.has_key('edit'):Myfile.write('\\t'+str(i['edit']))\n",
    "    else: Myfile.write('\\t'+' ')\n",
    "        \n",
    "    if i.has_key('article'):Myfile.write('\\t'+str(i['article']))\n",
    "    else: Myfile.write('\\t'+' ')\n",
    "        \n",
    "    if i.has_key('following'):Myfile.write('\\t'+str(i['following']))\n",
    "    else: Myfile.write('\\t'+' ')\n",
    "        \n",
    "    if i.has_key('position'):Myfile.write('\\t'+str(i['position']))\n",
    "    else: Myfile.write('\\t'+' ')\n",
    "        \n",
    "    if i.has_key('education'):Myfile.write('\\t'+str(i['education']))\n",
    "    else: Myfile.write('\\t'+' ')\n",
    "        \n",
    "    if i.has_key('employment'):Myfile.write('\\t'+str(i['employment']))\n",
    "    else: Myfile.write('\\t'+' ')\n",
    "        \n",
    "    if i.has_key('agree'):Myfile.write('\\t'+str(i['agree']))\n",
    "    else: Myfile.write('\\t'+' ')\n",
    "        \n",
    "    if i.has_key('thanks'):Myfile.write('\\t'+str(i['thanks']))\n",
    "    else: Myfile.write('\\t'+' ')\n",
    "        \n",
    "    \n",
    "    Myfile.write(\"\\n\")\n",
    "\n",
    "Myfile.close()"
   ]
  },
  {
   "cell_type": "code",
   "execution_count": 6,
   "metadata": {
    "collapsed": false
   },
   "outputs": [],
   "source": [
    "import pandas\n",
    "full_data =pandas.read_csv('zhihu.csv',sep='\\t')"
   ]
  },
  {
   "cell_type": "code",
   "execution_count": 7,
   "metadata": {
    "collapsed": false
   },
   "outputs": [
    {
     "data": {
      "text/html": [
       "<div>\n",
       "<table border=\"1\" class=\"dataframe\">\n",
       "  <thead>\n",
       "    <tr style=\"text-align: right;\">\n",
       "      <th></th>\n",
       "      <th>_id</th>\n",
       "      <th>major</th>\n",
       "      <th>answer</th>\n",
       "      <th>name</th>\n",
       "      <th>column</th>\n",
       "      <th>gender</th>\n",
       "      <th>ask</th>\n",
       "      <th>pageview</th>\n",
       "      <th>collection</th>\n",
       "      <th>topic</th>\n",
       "      <th>field</th>\n",
       "      <th>follower</th>\n",
       "      <th>edit</th>\n",
       "      <th>article</th>\n",
       "      <th>following</th>\n",
       "      <th>position</th>\n",
       "      <th>education</th>\n",
       "      <th>employment</th>\n",
       "      <th>agree</th>\n",
       "      <th>thanks</th>\n",
       "    </tr>\n",
       "  </thead>\n",
       "  <tbody>\n",
       "    <tr>\n",
       "      <th>0</th>\n",
       "      <td>5786d553ee97c61ab0a3408a</td>\n",
       "      <td>NaN</td>\n",
       "      <td>148</td>\n",
       "      <td>章佳杰</td>\n",
       "      <td>155</td>\n",
       "      <td>male</td>\n",
       "      <td>6</td>\n",
       "      <td>4096</td>\n",
       "      <td>1</td>\n",
       "      <td>121</td>\n",
       "      <td>NaN</td>\n",
       "      <td>5548</td>\n",
       "      <td>28</td>\n",
       "      <td>0</td>\n",
       "      <td>367</td>\n",
       "      <td>NaN</td>\n",
       "      <td>NaN</td>\n",
       "      <td>NaN</td>\n",
       "      <td>16273.0</td>\n",
       "      <td>4770.0</td>\n",
       "    </tr>\n",
       "    <tr>\n",
       "      <th>1</th>\n",
       "      <td>5786d554ee97c61ab0a3408b</td>\n",
       "      <td>NaN</td>\n",
       "      <td>20</td>\n",
       "      <td>小北姐姐</td>\n",
       "      <td>1</td>\n",
       "      <td>female</td>\n",
       "      <td>0</td>\n",
       "      <td>2622</td>\n",
       "      <td>0</td>\n",
       "      <td>31</td>\n",
       "      <td>NaN</td>\n",
       "      <td>2529</td>\n",
       "      <td>0</td>\n",
       "      <td>0</td>\n",
       "      <td>19</td>\n",
       "      <td>NaN</td>\n",
       "      <td>NaN</td>\n",
       "      <td>NaN</td>\n",
       "      <td>2456.0</td>\n",
       "      <td>479.0</td>\n",
       "    </tr>\n",
       "    <tr>\n",
       "      <th>2</th>\n",
       "      <td>5786d555ee97c61ab0a3408c</td>\n",
       "      <td>NaN</td>\n",
       "      <td>0</td>\n",
       "      <td>程程</td>\n",
       "      <td>1</td>\n",
       "      <td>female</td>\n",
       "      <td>0</td>\n",
       "      <td>79</td>\n",
       "      <td>0</td>\n",
       "      <td>83</td>\n",
       "      <td>NaN</td>\n",
       "      <td>95</td>\n",
       "      <td>0</td>\n",
       "      <td>15</td>\n",
       "      <td>1</td>\n",
       "      <td>NaN</td>\n",
       "      <td>NaN</td>\n",
       "      <td>NaN</td>\n",
       "      <td>316.0</td>\n",
       "      <td>0.0</td>\n",
       "    </tr>\n",
       "  </tbody>\n",
       "</table>\n",
       "</div>"
      ],
      "text/plain": [
       "                        _id major answer    name column  gender ask pageview  \\\n",
       "0  5786d553ee97c61ab0a3408a   NaN    148    章佳杰     155    male   6     4096   \n",
       "1  5786d554ee97c61ab0a3408b   NaN     20   小北姐姐       1  female   0     2622   \n",
       "2  5786d555ee97c61ab0a3408c   NaN      0     程程       1  female   0       79   \n",
       "\n",
       "  collection topic  field follower edit article following position education  \\\n",
       "0          1   121    NaN     5548   28       0       367      NaN       NaN   \n",
       "1          0    31    NaN     2529    0       0        19      NaN       NaN   \n",
       "2          0    83    NaN       95    0      15         1      NaN       NaN   \n",
       "\n",
       "  employment    agree  thanks  \n",
       "0        NaN  16273.0  4770.0  \n",
       "1        NaN   2456.0   479.0  \n",
       "2        NaN    316.0     0.0  "
      ]
     },
     "execution_count": 7,
     "metadata": {},
     "output_type": "execute_result"
    }
   ],
   "source": [
    "full_data.head(3)"
   ]
  },
  {
   "cell_type": "markdown",
   "metadata": {},
   "source": [
    "## Data exploratory analysis"
   ]
  },
  {
   "cell_type": "code",
   "execution_count": 10,
   "metadata": {
    "collapsed": false,
    "scrolled": false
   },
   "outputs": [],
   "source": [
    "#专业分析\n",
    "major = full_data.groupby(['major']).count().sort(['_id'],ascending= False)"
   ]
  },
  {
   "cell_type": "code",
   "execution_count": 11,
   "metadata": {
    "collapsed": false
   },
   "outputs": [
    {
     "data": {
      "text/plain": [
       "Index([u'计算机科学', u'软件工程', u'计算机科学与技术', u'法学', u'计算机', u'经济学', u'金融', u'临床医学',\n",
       "       u'心理学', u'建筑学',\n",
       "       ...\n",
       "       u'口腔护理', u'口腔颌面外科学', u'古代史', u'古代近东历史', u'古典学与艺术史', u'古典文献', u'古典文献学',\n",
       "       u'古典文獻學', u'古建筑', u'（萌）'],\n",
       "      dtype='object', name=u'major', length=3115)"
      ]
     },
     "execution_count": 11,
     "metadata": {},
     "output_type": "execute_result"
    }
   ],
   "source": [
    "major.index"
   ]
  },
  {
   "cell_type": "code",
   "execution_count": 12,
   "metadata": {
    "collapsed": false
   },
   "outputs": [],
   "source": [
    "categories = {\n",
    "    'Computer Science' : ['计算机','软件','机器学习','Computer','computer'],\n",
    "    'Math' : ['数学','Math','math'],\n",
    "    'Statistics' : ['统计','Statis','statis'],\n",
    "    'Finance' : ['金融','Finance','finance'],\n",
    "    'Ecomomy' : ['经济','econ','Econ'],\n",
    "    'History' : ['历史','History','history'],\n",
    "    'Medical' : ['医','口腔','medical','Medical'],\n",
    "    'Psycology' : ['心理','psycolo','Psycolo'],\n",
    "    'Medicine' : ['药'],\n",
    "    'Architecture/Civil Engineering' : ['建筑','土木','Architecture','architecture','civil engineering','Civil Engineering'],\n",
    "    'Biology' : ['生物','bio','Bio'],\n",
    "    'MBA/Sales/Marketing' : ['工商','管理','销售','营销','MBA','managing','Managing'],\n",
    "    'Electrical Engineering' : ['电子工程','微电子','EE','Electrical','electrical','electronic'],\n",
    "    'Communication Engineering' : ['通信工程','Communication','communication'],\n",
    "    'Phylosophy' : ['哲学','phylosophy','Phylosophy'],\n",
    "    'Linguist/Languages' : ['语','English'],\n",
    "    'Physics':['物理','physics','Physics'],\n",
    "    'Law':['法律','Juris','Law','law','juris'],\n",
    "    'Politics':['政治','politics','Politics'],\n",
    "    'Media':['新闻','传媒','传播','广播','media','Media'],\n",
    "    'Art':['艺术','art','Art'],\n",
    "    'Mechanical Engineering':['机械','mechanic','Mechanic'],\n",
    "    'Chemics':['化学','化工','chem','Chem']\n",
    "    }\n",
    "\n",
    "           "
   ]
  },
  {
   "cell_type": "code",
   "execution_count": 13,
   "metadata": {
    "collapsed": false
   },
   "outputs": [],
   "source": [
    "stat = {}\n",
    "for cate in categories.keys():\n",
    "    sub_category = set()\n",
    "    total = 0\n",
    "    for row in major.index:\n",
    "        for i in categories[cate]:\n",
    "            if i in row:\n",
    "                sub_category.add(row)\n",
    "    for j in sub_category:\n",
    "        total += int(major.loc[j]['_id'])\n",
    "    stat[cate] = total"
   ]
  },
  {
   "cell_type": "code",
   "execution_count": 14,
   "metadata": {
    "collapsed": false
   },
   "outputs": [
    {
     "data": {
      "text/plain": [
       "{'Architecture/Civil Engineering': 141,\n",
       " 'Art': 112,\n",
       " 'Biology': 134,\n",
       " 'Chemics': 125,\n",
       " 'Communication Engineering': 59,\n",
       " 'Computer Science': 712,\n",
       " 'Ecomomy': 245,\n",
       " 'Electrical Engineering': 109,\n",
       " 'Finance': 228,\n",
       " 'History': 60,\n",
       " 'Law': 71,\n",
       " 'Linguist/Languages': 270,\n",
       " 'MBA/Sales/Marketing': 356,\n",
       " 'Math': 149,\n",
       " 'Mechanical Engineering': 80,\n",
       " 'Media': 236,\n",
       " 'Medical': 180,\n",
       " 'Medicine': 40,\n",
       " 'Phylosophy': 70,\n",
       " 'Physics': 160,\n",
       " 'Politics': 56,\n",
       " 'Psycology': 152,\n",
       " 'Statistics': 40}"
      ]
     },
     "execution_count": 14,
     "metadata": {},
     "output_type": "execute_result"
    }
   ],
   "source": [
    "stat"
   ]
  },
  {
   "cell_type": "code",
   "execution_count": 16,
   "metadata": {
    "collapsed": false
   },
   "outputs": [],
   "source": [
    "import operator\n",
    "sorted_stat = sorted(stat.items(), key=operator.itemgetter(1))"
   ]
  },
  {
   "cell_type": "code",
   "execution_count": 17,
   "metadata": {
    "collapsed": false
   },
   "outputs": [],
   "source": [
    "name,value=[],[]\n",
    "for i in range(len(stat)):\n",
    "    name.append(sorted_stat[i][0])\n",
    "    value.append(sorted_stat[i][1])"
   ]
  },
  {
   "cell_type": "code",
   "execution_count": 18,
   "metadata": {
    "collapsed": false
   },
   "outputs": [
    {
     "data": {
      "image/png": "[encoded data removed]",
      "text/plain": [
       "<matplotlib.figure.Figure at 0x6f063c8>"
      ]
     },
     "metadata": {},
     "output_type": "display_data"
    }
   ],
   "source": [
    "%matplotlib inline\n",
    "from pylab import *\n",
    "import matplotlib.pyplot as plt\n",
    "pos = arange(23)*1.3\n",
    "plt.figure(figsize=(10,10))\n",
    "plt.barh(pos, value, align='edge')\n",
    "\n",
    "plt.yticks(pos+0.3,name)\n",
    "xlabel('Counts')\n",
    "title(u'Majors')\n",
    "grid(True)\n",
    "\n"
   ]
  },
  {
   "cell_type": "code",
   "execution_count": 20,
   "metadata": {
    "collapsed": false
   },
   "outputs": [],
   "source": [
    "# 性别比例\n",
    "gender = full_data.groupby(['gender']).count()"
   ]
  },
  {
   "cell_type": "code",
   "execution_count": 21,
   "metadata": {
    "collapsed": false
   },
   "outputs": [],
   "source": [
    "name = []\n",
    "value = []\n",
    "for i in gender.index:\n",
    "    name.append(i)\n",
    "    value.append(int(gender.loc[i]['_id']))"
   ]
  },
  {
   "cell_type": "code",
   "execution_count": 22,
   "metadata": {
    "collapsed": false
   },
   "outputs": [
    {
     "data": {
      "image/png": "[encoded data removed]",
      "text/plain": [
       "<matplotlib.figure.Figure at 0x6fee9e8>"
      ]
     },
     "metadata": {},
     "output_type": "display_data"
    }
   ],
   "source": [
    "pos = arange(2)*1.3\n",
    "plt.figure(figsize=(10,3))\n",
    "plt.barh(pos, value, align='center')\n",
    "\n",
    "plt.yticks(pos+0.3,name)\n",
    "xlabel('Counts')\n",
    "title('Gender')\n",
    "grid(True)"
   ]
  },
  {
   "cell_type": "code",
   "execution_count": 24,
   "metadata": {
    "collapsed": false
   },
   "outputs": [],
   "source": [
    "# 教育背景\n",
    "edu = full_data.groupby(['education']).count().sort(['_id'],ascending= False)"
   ]
  },
  {
   "cell_type": "code",
   "execution_count": 25,
   "metadata": {
    "collapsed": false
   },
   "outputs": [],
   "source": [
    "name=[]\n",
    "value=[]\n",
    "for i in edu.index:\n",
    "    name.append(str(i))\n",
    "    value.append(int(edu.loc[i]['_id']))"
   ]
  },
  {
   "cell_type": "code",
   "execution_count": 26,
   "metadata": {
    "collapsed": true
   },
   "outputs": [],
   "source": [
    "# only pick top 20\n",
    "name = name[:20]\n",
    "value = value[:20]"
   ]
  },
  {
   "cell_type": "code",
   "execution_count": 27,
   "metadata": {
    "collapsed": false
   },
   "outputs": [
    {
     "data": {
      "image/png": "[encoded data removed]",
      "text/plain": [
       "<matplotlib.figure.Figure at 0x40e9e80>"
      ]
     },
     "metadata": {},
     "output_type": "display_data"
    }
   ],
   "source": [
    "from matplotlib.font_manager import FontProperties\n",
    "ChineseFont1 = FontProperties(fname = 'C:\\\\Windows\\\\Fonts\\\\simsun.ttc')\n",
    "ChineseFont2 = FontProperties('SimHei')\n",
    "pos = arange(20)\n",
    "plt.figure(figsize=(10,10))\n",
    "plt.barh(pos*1.2, value, align='edge')\n",
    "plt.yticks(pos*1.2+0.3,name,fontproperties = ChineseFont2)\n",
    "xlabel('Counts')\n",
    "title('College')\n",
    "grid(True)"
   ]
  },
  {
   "cell_type": "code",
   "execution_count": 254,
   "metadata": {
    "collapsed": false
   },
   "outputs": [],
   "source": [
    "# 职称\n",
    "title = full_data.groupby(['position']).count().sort(['_id'],ascending= False)"
   ]
  },
  {
   "cell_type": "code",
   "execution_count": 257,
   "metadata": {
    "collapsed": false
   },
   "outputs": [],
   "source": [
    "# 公司\n",
    "company = title = full_data.groupby(['employment']).count().sort(['_id'],ascending= False)"
   ]
  }
 ],
 "metadata": {
  "kernelspec": {
   "display_name": "Python 2",
   "language": "python",
   "name": "python2"
  },
  "language_info": {
   "codemirror_mode": {
    "name": "ipython",
    "version": 2
   },
   "file_extension": ".py",
   "mimetype": "text/x-python",
   "name": "python",
   "nbconvert_exporter": "python",
   "pygments_lexer": "ipython2",
   "version": "2.7.12"
  }
 },
 "nbformat": 4,
 "nbformat_minor": 0
}
